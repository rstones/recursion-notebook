{
 "cells": [
  {
   "cell_type": "markdown",
   "metadata": {},
   "source": [
    "# Recursion\n",
    "\n",
    "    def. see Recursion\n",
    "    \n",
    "But seriously...recursion is a way of defining something in terms of itself.\n",
    "\n",
    "For example...\n",
    "\n",
    "\n",
    "And in programming..."
   ]
  },
  {
   "cell_type": "markdown",
   "metadata": {},
   "source": [
    "### Exercise 1"
   ]
  },
  {
   "cell_type": "markdown",
   "metadata": {},
   "source": [
    "We are going to warm up by writing a function to calculate the factorial of a non-negative integer $n$ using a for-loop.\n",
    "\n",
    "The factorial of $n$ is defined:\n",
    "\n",
    "$ n! = n\\times(n-1)\\times(n-2)\\times...\\times2\\times1$\n",
    "\n",
    "Writing out the maths explicitly for some small numbers should give you an idea of how the factorial is calculated...\n",
    "\n",
    "$0! = 1$ (this is a special case)\n",
    "\n",
    "$1! = 1$\n",
    "\n",
    "$2! = 2\\times1 = 2$\n",
    "\n",
    "$3! = 3\\times2\\times1 = 6$\n",
    "\n",
    "$4! = 4\\times3\\times2\\times1 = 24$\n",
    "\n",
    "$5! = 5\\times4\\times3\\times2\\times1 = 120$\n",
    "\n",
    "and so on...\n",
    "\n",
    "In the cell below complete the function to calculate the factorial using a for-loop."
   ]
  },
  {
   "cell_type": "code",
   "execution_count": 1,
   "metadata": {
    "collapsed": true
   },
   "outputs": [],
   "source": [
    "# calculate factorial of a non-negative integer n using a for loop\n",
    "def factorial_loop(n):\n",
    "    pass"
   ]
  },
  {
   "cell_type": "markdown",
   "metadata": {},
   "source": [
    "Now try out your new function by testing it against some values given for the factorial above. If it doesn't work can you work out why? Don't forget to test the special case 0!"
   ]
  },
  {
   "cell_type": "code",
   "execution_count": null,
   "metadata": {
    "collapsed": true
   },
   "outputs": [],
   "source": [
    "# try out your function here"
   ]
  },
  {
   "cell_type": "markdown",
   "metadata": {},
   "source": [
    "### Exercise 2"
   ]
  },
  {
   "cell_type": "markdown",
   "metadata": {},
   "source": [
    "The factorial can also be expressed in terms of a another factorial, ie. recursively!\n",
    "\n",
    "$n! = n\\times(n-1)!$\n",
    "\n",
    "$n! = n\\times(n-1)\\times(n-2)!$\n",
    "\n",
    "$n! = n\\times(n-1)\\times(n-2)\\times(n-3)!$\n",
    "\n",
    "and so on...\n",
    "\n",
    "So rather than writing a for-loop to calculate the factorial of $n$ like we did before, we could multiply $n$ by $(n-1)!$. Then instead of calculating $(n-1)!$ with a for-loop we could multiply $(n-1)$ by $(n-2)!$. We could continue in this way until we reach $0!$ where we would stop.\n",
    "\n",
    "I will walk you through this exercise to show you the basic layout of a recursive function..."
   ]
  },
  {
   "cell_type": "code",
   "execution_count": 2,
   "metadata": {
    "collapsed": true
   },
   "outputs": [],
   "source": [
    "# calculate factorial of a non-negative integer n using recursion\n",
    "def factorial_rec(n):\n",
    "    pass"
   ]
  },
  {
   "cell_type": "markdown",
   "metadata": {},
   "source": [
    "Now try out your new function by testing it against the one you wrote using a for-loop. Does it give the same answers even for large values of n?\n",
    "\n",
    "Note: python will prevent you using n larger than about 1000 with a recursive function."
   ]
  },
  {
   "cell_type": "code",
   "execution_count": null,
   "metadata": {
    "collapsed": true
   },
   "outputs": [],
   "source": [
    "# try out your function here"
   ]
  },
  {
   "cell_type": "markdown",
   "metadata": {},
   "source": [
    "### Recursion recap"
   ]
  },
  {
   "cell_type": "markdown",
   "metadata": {},
   "source": [
    "So far we have compared the use of loops and recursion to solve the same problem. In fact recursion can be used in place of a loop in most cases.\n",
    "\n",
    "Practical points about recursion:\n",
    "- We need to define the base case where recursion will stop\n",
    "- We need to call a function within itself for a 'simplified' case of the problem"
   ]
  },
  {
   "cell_type": "markdown",
   "metadata": {},
   "source": [
    "### When is recursion useful then?"
   ]
  },
  {
   "cell_type": "markdown",
   "metadata": {},
   "source": [
    "- When we are dealing with recursive data structures. Eg. nested lists, nested dictionaries.\n",
    "- trees and networks\n"
   ]
  },
  {
   "cell_type": "markdown",
   "metadata": {},
   "source": [
    "### Exercise 3"
   ]
  },
  {
   "cell_type": "markdown",
   "metadata": {},
   "source": [
    "For the final challenge we are going to write out the lyrics for the Twelve Days of Christmas using recursion!\n",
    "\n",
    "Below are lists of the gifts and the days we need..."
   ]
  },
  {
   "cell_type": "code",
   "execution_count": 4,
   "metadata": {
    "collapsed": true
   },
   "outputs": [],
   "source": [
    "gifts = [\n",
    "    'a partridge in a pear tree',\n",
    "    'two turtle doves',\n",
    "    'three French hens',\n",
    "    'four calling birds',\n",
    "    'five gold rings',\n",
    "    'six geese a-laying',\n",
    "    'seven swans a-swimming',\n",
    "    'eight maids a-milking',\n",
    "    'nine ladies dancing',\n",
    "    'ten lords a-leaping',\n",
    "    'eleven pipers piping',\n",
    "    'twelve drummers drumming'\n",
    "]\n",
    "\n",
    "days = [\n",
    "    'first',\n",
    "    'second',\n",
    "    'third',\n",
    "    'fourth',\n",
    "    'fifth',\n",
    "    'sixth',\n",
    "    'seventh',\n",
    "    'eighth',\n",
    "    'nineth',\n",
    "    'tenth',\n",
    "    'eleventh',\n",
    "    'twelveth'\n",
    "]"
   ]
  },
  {
   "cell_type": "markdown",
   "metadata": {},
   "source": [
    "I've written a code skeleton below for you to complete.\n",
    "\n",
    "There are three functions that we will need:\n",
    "- verse_gifts: this returns the list of gifts at the end of a verse for a given day. Eg. on the third day 'three French hens, two turtle doves and a partridge in a pear tree'.\n",
    "- verse: this constructs the string for a single verse calling the function verse_gifts\n",
    "- song: this returns all the verses up to a given day. So we will call song(5) and it will return a string containing all the verses up to day 5.\n",
    "\n",
    "Complete the function named song and then print the output to see the lyrics!"
   ]
  },
  {
   "cell_type": "code",
   "execution_count": 36,
   "metadata": {
    "collapsed": true
   },
   "outputs": [],
   "source": [
    "# construct a string of all the gifts received on a given day\n",
    "def verse_gifts(day):\n",
    "    if day == 1:\n",
    "        # base case, return the gift from the first day\n",
    "        return gifts[0]\n",
    "    else:\n",
    "        # recursively get the gifts from the current day and all previous days\n",
    "        # we need to use a conditional expression on day 2 to add the 'and'\n",
    "        return gifts[day-1] + ',\\n' + ('and ' if day == 2 else '') + verse_gifts(day-1)\n",
    "\n",
    "# construct a verse for a given day\n",
    "def verse(day):\n",
    "    return 'On the ' + days[day-1] + ' day of Christmas my true love sent to me,\\n' + verse_gifts(day) + '.\\n\\n'\n",
    "\n",
    "# construct the whole song up to the verse for a given day\n",
    "def song(day):\n",
    "    pass\n",
    "#     if day == 1: # base case\n",
    "#         return verse(day)\n",
    "#     else:\n",
    "#         return song(day - 1) + verse(day)"
   ]
  },
  {
   "cell_type": "code",
   "execution_count": 37,
   "metadata": {},
   "outputs": [
    {
     "name": "stdout",
     "output_type": "stream",
     "text": [
      "On the first day of Christmas my true love sent to me,\n",
      "a partridge in a pear tree.\n",
      "\n",
      "On the second day of Christmas my true love sent to me,\n",
      "two turtle doves,\n",
      "and a partridge in a pear tree.\n",
      "\n",
      "On the third day of Christmas my true love sent to me,\n",
      "three French hens,\n",
      "two turtle doves,\n",
      "and a partridge in a pear tree.\n",
      "\n",
      "On the fourth day of Christmas my true love sent to me,\n",
      "four calling birds,\n",
      "three French hens,\n",
      "two turtle doves,\n",
      "and a partridge in a pear tree.\n",
      "\n",
      "On the fifth day of Christmas my true love sent to me,\n",
      "five gold rings,\n",
      "four calling birds,\n",
      "three French hens,\n",
      "two turtle doves,\n",
      "and a partridge in a pear tree.\n",
      "\n",
      "On the sixth day of Christmas my true love sent to me,\n",
      "six geese a-laying,\n",
      "five gold rings,\n",
      "four calling birds,\n",
      "three French hens,\n",
      "two turtle doves,\n",
      "and a partridge in a pear tree.\n",
      "\n",
      "On the seventh day of Christmas my true love sent to me,\n",
      "seven swans a-swimming,\n",
      "six geese a-laying,\n",
      "five gold rings,\n",
      "four calling birds,\n",
      "three French hens,\n",
      "two turtle doves,\n",
      "and a partridge in a pear tree.\n",
      "\n",
      "On the eighth day of Christmas my true love sent to me,\n",
      "eight maids a-milking,\n",
      "seven swans a-swimming,\n",
      "six geese a-laying,\n",
      "five gold rings,\n",
      "four calling birds,\n",
      "three French hens,\n",
      "two turtle doves,\n",
      "and a partridge in a pear tree.\n",
      "\n",
      "On the nineth day of Christmas my true love sent to me,\n",
      "nine ladies dancing,\n",
      "eight maids a-milking,\n",
      "seven swans a-swimming,\n",
      "six geese a-laying,\n",
      "five gold rings,\n",
      "four calling birds,\n",
      "three French hens,\n",
      "two turtle doves,\n",
      "and a partridge in a pear tree.\n",
      "\n",
      "On the tenth day of Christmas my true love sent to me,\n",
      "ten lords a-leaping,\n",
      "nine ladies dancing,\n",
      "eight maids a-milking,\n",
      "seven swans a-swimming,\n",
      "six geese a-laying,\n",
      "five gold rings,\n",
      "four calling birds,\n",
      "three French hens,\n",
      "two turtle doves,\n",
      "and a partridge in a pear tree.\n",
      "\n",
      "On the eleventh day of Christmas my true love sent to me,\n",
      "eleven pipers piping,\n",
      "ten lords a-leaping,\n",
      "nine ladies dancing,\n",
      "eight maids a-milking,\n",
      "seven swans a-swimming,\n",
      "six geese a-laying,\n",
      "five gold rings,\n",
      "four calling birds,\n",
      "three French hens,\n",
      "two turtle doves,\n",
      "and a partridge in a pear tree.\n",
      "\n",
      "On the twelveth day of Christmas my true love sent to me,\n",
      "twelve drummers drumming,\n",
      "eleven pipers piping,\n",
      "ten lords a-leaping,\n",
      "nine ladies dancing,\n",
      "eight maids a-milking,\n",
      "seven swans a-swimming,\n",
      "six geese a-laying,\n",
      "five gold rings,\n",
      "four calling birds,\n",
      "three French hens,\n",
      "two turtle doves,\n",
      "and a partridge in a pear tree.\n",
      "\n",
      "\n"
     ]
    }
   ],
   "source": [
    "print(song(12))"
   ]
  },
  {
   "cell_type": "code",
   "execution_count": null,
   "metadata": {
    "collapsed": true
   },
   "outputs": [],
   "source": []
  }
 ],
 "metadata": {
  "kernelspec": {
   "display_name": "Python 3",
   "language": "python",
   "name": "python3"
  },
  "language_info": {
   "codemirror_mode": {
    "name": "ipython",
    "version": 3
   },
   "file_extension": ".py",
   "mimetype": "text/x-python",
   "name": "python",
   "nbconvert_exporter": "python",
   "pygments_lexer": "ipython3",
   "version": "3.6.3"
  }
 },
 "nbformat": 4,
 "nbformat_minor": 2
}
